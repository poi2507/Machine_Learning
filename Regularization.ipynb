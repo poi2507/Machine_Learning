{
 "cells": [
  {
   "cell_type": "markdown",
   "metadata": {
    "collapsed": true,
    "pycharm": {
     "name": "#%% md\n"
    }
   },
   "source": [
    "# Regularization\n",
    "\n",
    "\n",
    "<br>\n",
    "<br>\n",
    "\n",
    "\n",
    "\n",
    "## The problem of overfitting\n",
    "\n",
    "\n",
    "\n",
    "![](./img/IMG_981D05A00B6A-1.jpeg)\n",
    "\n",
    "\n",
    "Overfitting : if we have too many features, the learned hypothesis may fit the training set very well\n",
    "($J(\\theta) = \\frac{1}{2m} \\sum^m_{i=1}(h_\\theta(x^i)-y^i)^2 \\approx 0$ ), but fail to generalize to new examples\n",
    "\n",
    "![](./img/IMG_77DA063A3884-1.jpeg)\n",
    "\n",
    "\n",
    "Addressing overfitting :\n",
    "\n",
    "Options:\n",
    "1. Reduce number of features\n",
    "    - Manually select which features to keep\n",
    "    - Model selection algorithm\n",
    "2. Regularization\n",
    "    - Keep all the features, but reduce magnitude/values of parameters $\\theta_j$\n",
    "    - Works well when we have a lot of features, each of which contributes a bit to predicting $y$.\n",
    "\n",
    "## Cost function\n",
    "![](./img/IMG_D8B7F83F7472-1.jpeg)\n",
    "\n",
    "$J(\\theta) = \\frac{1}{2m}[\\sum^m_{i=1}(h_\\theta(x^i) - y^i)^2 + \\lambda\\sum^m_{j=1}\\theta^2_j]$\n",
    "\n",
    "* $\\lambda :$ regularization parameter\n",
    "    - $\\lambda$ 를 키우면 ➤ underfitting 쪽으로 간다.\n",
    "    - $\\lambda$ 를 작게하면 ➤ overfitting 쪽으로 간다.\n",
    "* $\\theta_0$는 가중치에 포함 안된다. $\\theta_0$를 줄이면 y절편에 영향을 주는 것이다.\n",
    "* $\\theta^2_j$ : L2-norm → 멀어질 수록 규제가 강해진다.\n",
    "* $|\\theta_j|$ : L1-norm → 동일한 규제, variable selection에 장점\n",
    "\n",
    "![](https://miro.medium.com/max/1400/1*etUdoAT3P51qjMiadDRHhQ.gif)\n",
    "\n",
    "\n",
    "\n"
   ]
  },
  {
   "cell_type": "markdown",
   "metadata": {},
   "source": [
    "# [실습] Polynomial Regression & Regularization"
   ]
  },
  {
   "cell_type": "markdown",
   "metadata": {
    "pycharm": {
     "name": "#%% md\n"
    }
   },
   "source": [
    "지난번 시간까지는 linear 한 관계에 대해서 알아보았습니다. linear 한 관계란, 데이터를 가장 잘 설명해주는 **직선**을 찾는 것이었습니다. 하지만 우리의 데이터가 x,y 좌표에서 직선의 형태가 아닌 구부러진 형태로 되어있다면 linear 말고 다른 방법을 찾아야 할 것입니다.\n",
    "\n",
    "그래서 이번 시간에는 polynomial regression을 실습을 통해서 알아보도록 하겠습니다. 그리고 regularization을 통해서 어떻게 학습이 변화되는지 알아보겠습니다.\n",
    "\n",
    "이제부터 코드를 통해서 알아보도록 하겠습니다.\n",
    "\n",
    "\n"
   ]
  },
  {
   "cell_type": "markdown",
   "metadata": {},
   "source": [
    "## 1.1 A special case of multiple linear regression\n",
    "\n",
    "먼저 우리는 4차 polynomial function\n",
    "$$y = x^4 + x^3 - 4x^2$$\n",
    "을 이용해서 데이터를 생성해보도록 하겠습니다. 이전에 했던 것처럼 noise를 추가해서 생성하도록 하겠습니다. "
   ]
  },
  {
   "cell_type": "code",
   "execution_count": 1,
   "metadata": {},
   "outputs": [],
   "source": [
    "from matplotlib import pyplot\n",
    "from autograd import grad\n",
    "from autograd import numpy"
   ]
  },
  {
   "cell_type": "code",
   "execution_count": 2,
   "metadata": {},
   "outputs": [
    {
     "data": {
      "image/png": "[encoded data removed]",
      "text/plain": [
       "<Figure size 432x288 with 1 Axes>"
      ]
     },
     "metadata": {
      "needs_background": "light"
     },
     "output_type": "display_data"
    }
   ],
   "source": [
    "numpy.random.seed(0)    # fix seed for reproducibility\n",
    "x = numpy.linspace(-3, 3, 20)\n",
    "y = x**4 + x**3 - 4*x**2 + 8*numpy.random.normal(size=len(x))\n",
    "pyplot.scatter(x, y);"
   ]
  },
  {
   "cell_type": "markdown",
   "metadata": {},
   "source": [
    "우리가 생성한 데이터는 곡선의 형태이기 때문에 직선으로 표현하는데에는 무리가 있습니다. \n",
    "\n",
    "그래서 우리는 polynomial function을 사용해서 표현하도록 하겠습니다. 이제 먼저 $d$ 차 곡선을 정의해보겠습니다. \n",
    "\n",
    "$$\\hat{y} = w_0 + w_1x + w_2x^2 + ... + w_dx^d$$\n",
    "\n",
    "$w$는 우리가 찾아야 할 계수들입니다. 우리는 주어진 $x, y$를 가장 잘 설명해줄 수 있는 $w$를 찾는 것이 목적입니다. \n",
    "\n",
    "이제 우리는 위의 식을 조금 변형하여 linear regression 문제처럼 바꾸어 보겠습니다. $x_i = x^i$라고 정의를 하면 다음과 같이 나타낼 수 있습니다. \n",
    "\n",
    "$$\\hat{y} = w_0 + w_1x_1 + w_2x_2 + ... + w_dx_d$$\n",
    "\n",
    "이제 polynomial regression 문제가 multiple linear regression 문제와 동일해졌습니다. 이것도 또한 이전에 한 것처럼 행렬의 형태로 나타낼 수 있습니다. \n",
    "\n",
    "$$\\hat{\\mathbf{y}} = \\begin{bmatrix}\n",
    "\\hat{y}^{(1)}  \\\\\n",
    "\\hat{y}^{(2)}\\\\\n",
    "\\vdots  \\\\\n",
    "\\hat{y}^{(N)}\n",
    "\\end{bmatrix} =\n",
    "\\begin{bmatrix}\n",
    "x_0^{(1)} &  x_1^{(1)} & \\cdots & x_d^{(1)} \\\\\n",
    "x_0^{(2)} &  x_1^{(2)} & \\cdots & x_d^{(2)} \\\\\n",
    "\\vdots & \\vdots & \\ddots & \\vdots \\\\\n",
    "x_0^{(N)} &  x_1^{(N)} & \\cdots & x_d^{(N)}\n",
    "\\end{bmatrix} \\begin{bmatrix}\n",
    "w_0  \\\\\n",
    "w_1\\\\\n",
    "\\vdots  \\\\\n",
    "w_d \n",
    "\\end{bmatrix} \n",
    "= \\mathbf{X}\\mathbf{w}$$\n",
    "\n",
    "이번 실습에서 3차항까지 고려해서 실습을 진행하도록 하겠습니다. \n",
    "\n",
    "코드로 살펴보겠습니다. "
   ]
  },
  {
   "cell_type": "code",
   "execution_count": 10,
   "metadata": {},
   "outputs": [
    {
     "name": "stdout",
     "output_type": "stream",
     "text": [
      "(20, 4)\n"
     ]
    }
   ],
   "source": [
    "degree = 3\n",
    "\n",
    "def polynomial_features(x, degree):\n",
    "    \"\"\" Generate polynomial features for x.\"\"\"\n",
    "    \n",
    "    X = numpy.empty((len(x), degree+1)) # np.empty : np.zeros, np.ones 처럼 배열을 만든다.\n",
    "    for i in range(degree+1):\n",
    "        X[:,i] = x**i\n",
    "    return X\n",
    "\n",
    "X = polynomial_features(x, degree)\n",
    "print(X.shape)"
   ]
  },
  {
   "cell_type": "markdown",
   "metadata": {},
   "source": [
    "## 1.2 Scale the data, train the model\n",
    "\n",
    "이제 기존에 했던 것처럼 입력 변수들을 정규화 시켜주고, 학습을 진행해보도록 하겠습니다. 이번에는 scikit-learn 패키지 안에 있는 min max sclaer 를 사용하겠습니다. "
   ]
  },
  {
   "cell_type": "code",
   "execution_count": 11,
   "metadata": {},
   "outputs": [],
   "source": [
    "from sklearn.preprocessing import MinMaxScaler\n",
    "\n",
    "min_max_scaler = MinMaxScaler()\n",
    "X_scaled = min_max_scaler.fit_transform(X)\n",
    "X_scaled[:,0] = 1   # the column for intercept"
   ]
  },
  {
   "cell_type": "code",
   "execution_count": 12,
   "metadata": {},
   "outputs": [],
   "source": [
    "def linear_regression(params, X):\n",
    "    '''\n",
    "    The linear regression model in matrix form.\n",
    "    Arguments:\n",
    "      params: 1D array of weights for the linear model\n",
    "      X     : 2D array of input values\n",
    "    Returns:\n",
    "      1D array of predicted values\n",
    "    '''\n",
    "    return numpy.dot(X, params)\n",
    "\n",
    "def mse_loss(params, model, X, y):\n",
    "    '''\n",
    "    The mean squared error loss function.\n",
    "    Arguments:\n",
    "      params: 1D array of weights for the linear model\n",
    "      model : function for the linear regression model\n",
    "      X     : 2D array of input values\n",
    "      y     : 1D array of predicted values\n",
    "    Returns:\n",
    "      float, mean squared error\n",
    "    '''\n",
    "    y_pred = model(params, X)\n",
    "    return numpy.mean( numpy.sum((y-y_pred)**2) )\n",
    "\n",
    "gradient = grad(mse_loss)"
   ]
  },
  {
   "cell_type": "code",
   "execution_count": 13,
   "metadata": {},
   "outputs": [
    {
     "name": "stdout",
     "output_type": "stream",
     "text": [
      "iteration 0, loss = 5434.767518111348, mae = 11.05718775676392\n",
      "iteration 100, loss = 1300.4768479787672, mae = 6.885099348931476\n",
      "iteration 200, loss = 1281.308959359777, mae = 6.8639053389713665\n",
      "iteration 300, loss = 1272.9896965024661, mae = 6.807943451695349\n",
      "iteration 400, loss = 1267.4477500708404, mae = 6.760476747247461\n",
      "iteration 500, loss = 1263.7497451381248, mae = 6.721622404779564\n",
      "iteration 600, loss = 1261.282144135704, mae = 6.689879731162117\n",
      "iteration 700, loss = 1259.6355657998567, mae = 6.663949878547802\n",
      "iteration 800, loss = 1258.5368386500606, mae = 6.642768513961068\n",
      "iteration 900, loss = 1257.8036810933152, mae = 6.625466061127554\n",
      "iteration 1000, loss = 1257.314460450035, mae = 6.611332180986304\n",
      "iteration 1100, loss = 1256.9880137870919, mae = 6.5997866175015245\n",
      "iteration 1200, loss = 1256.7701827834117, mae = 6.5903553760560865\n",
      "iteration 1300, loss = 1256.6248287285202, mae = 6.582651263968432\n",
      "iteration 1400, loss = 1256.5278370197357, mae = 6.576357994582585\n",
      "iteration 1500, loss = 1256.4631164890282, mae = 6.571217202352118\n",
      "iteration 1600, loss = 1256.4199298378444, mae = 6.567017835832665\n",
      "iteration 1700, loss = 1256.391112292313, mae = 6.563587493120082\n",
      "iteration 1800, loss = 1256.3718829492707, mae = 6.5607853440170505\n",
      "iteration 1900, loss = 1256.3590516124232, mae = 6.558496348352909\n",
      "iteration 2000, loss = 1256.3504895307688, mae = 6.5566265330940485\n",
      "iteration 2100, loss = 1256.3447762334608, mae = 6.555099134350118\n",
      "iteration 2200, loss = 1256.3409638701312, mae = 6.553851445888969\n",
      "iteration 2300, loss = 1256.338419960131, mae = 6.552832244778408\n",
      "iteration 2400, loss = 1256.336722462403, mae = 6.551999688466384\n",
      "iteration 2500, loss = 1256.3355897578117, mae = 6.551319596965787\n",
      "iteration 2600, loss = 1256.334833927822, mae = 6.550764049620217\n",
      "iteration 2700, loss = 1256.33432957834, mae = 6.550310238841959\n",
      "iteration 2800, loss = 1256.333993036521, mae = 6.549939533763262\n",
      "iteration 2900, loss = 1256.3337684692315, mae = 6.549636715359735\n"
     ]
    }
   ],
   "source": [
    "max_iter = 3000\n",
    "alpha = 0.01\n",
    "params = numpy.zeros(X_scaled.shape[1])\n",
    "descent = numpy.ones(X_scaled.shape[1])\n",
    "i = 0\n",
    "\n",
    "from sklearn.metrics import mean_absolute_error\n",
    "\n",
    "while numpy.linalg.norm(descent) > 0.01 and i < max_iter:\n",
    "    descent = gradient(params, linear_regression, X_scaled, y)\n",
    "    params = params - descent * alpha\n",
    "    loss = mse_loss(params, linear_regression, X_scaled, y)\n",
    "    mae = mean_absolute_error(y, X_scaled@params)\n",
    "    if i%100 == 0:\n",
    "        print(\"iteration {}, loss = {}, mae = {}\".format(i, loss, mae))\n",
    "    i += 1"
   ]
  },
  {
   "cell_type": "markdown",
   "metadata": {},
   "source": [
    "이제 학습된 parameter들을 보겠습니다."
   ]
  },
  {
   "cell_type": "code",
   "execution_count": 14,
   "metadata": {},
   "outputs": [
    {
     "data": {
      "text/plain": [
       "array([-22.51572398,   6.75930601,  41.30788709,  30.0105898 ])"
      ]
     },
     "execution_count": 14,
     "metadata": {},
     "output_type": "execute_result"
    }
   ],
   "source": [
    "params"
   ]
  },
  {
   "cell_type": "markdown",
   "metadata": {},
   "source": [
    "원래 데이터와 함께 그래프로 표현해서 보겠습니다."
   ]
  },
  {
   "cell_type": "code",
   "execution_count": 17,
   "metadata": {},
   "outputs": [
    {
     "data": {
      "image/png": "[encoded data removed]",
      "text/plain": [
       "<Figure size 432x288 with 1 Axes>"
      ]
     },
     "metadata": {
      "needs_background": "light"
     },
     "output_type": "display_data"
    }
   ],
   "source": [
    "xgrid = numpy.linspace(x.min(), x.max(), 30)\n",
    "Xgrid_poly_feat = polynomial_features(xgrid, degree)\n",
    "Xgrid_scaled = min_max_scaler.transform(Xgrid_poly_feat)\n",
    "Xgrid_scaled[:,0] = 1 \n",
    "pyplot.scatter(x, y, c='r', label='true')\n",
    "pyplot.plot(xgrid, Xgrid_scaled@params, label='predicted')\n",
    "pyplot.legend();"
   ]
  },
  {
   "cell_type": "markdown",
   "metadata": {},
   "source": [
    "## 1.3 Observe underfitting & overfitting\n",
    "\n",
    "우리는 위에서 모델을 만들 때 3차항으로 설정을 한 뒤 학습을 진행하였습니다. 과연 3차항으로 설정한 것이 좋은 선택이었을까요? \n",
    "\n",
    "지금부터 우리는 1부터 15까지 다양한 차수를 가지고 학습을 하면서 변화를 지켜보겠습니다. 우리는 ipywidget 패키지를 통해서 어떻게 변화하는지 보겠습니다. "
   ]
  },
  {
   "cell_type": "code",
   "execution_count": 18,
   "metadata": {},
   "outputs": [
    {
     "data": {
      "text/plain": [
       "('plot_helpers.py', <http.client.HTTPMessage at 0x7fb31290e898>)"
      ]
     },
     "execution_count": 18,
     "metadata": {},
     "output_type": "execute_result"
    }
   ],
   "source": [
    "from urllib.request import urlretrieve\n",
    "URL = 'https://raw.githubusercontent.com/engineersCode/EngComp6_deeplearning/master/scripts/plot_helpers.py'\n",
    "urlretrieve(URL, 'plot_helpers.py')"
   ]
  },
  {
   "cell_type": "code",
   "execution_count": 20,
   "metadata": {},
   "outputs": [
    {
     "data": {
      "application/vnd.jupyter.widget-view+json": {
       "model_id": "fba4c7e356554b63803b5653d6e78ba4",
       "version_major": 2,
       "version_minor": 0
      },
      "text/plain": [
       "interactive(children=(IntSlider(value=8, description='degree', max=15, min=1), Output()), _dom_classes=('widge…"
      ]
     },
     "metadata": {},
     "output_type": "display_data"
    }
   ],
   "source": [
    "from plot_helpers import interact_polyreg\n",
    "\n",
    "max_degree = 15\n",
    "interact_polyreg(max_degree, x, y);"
   ]
  },
  {
   "cell_type": "markdown",
   "metadata": {},
   "source": [
    "### 1.3.1 Underfitting\n",
    "\n",
    "위 셀에서 degree를 1로 설정을 하면 우리의 데이터와 가장 잘 맞는 직선을 찾아줍니다. \n",
    "\n",
    "직선은 너무 간단해서 데이터가 흩뿌려져 있을 때는 그 데이터를 잘 설명하지 못합니다. \n",
    "\n",
    "이것을 **underfitting** 되었다고 합니다. Underfitting 에서는 우리의 예측 값이 **high bias, low variance**의 성질을 가지게 됩니다. \n",
    "\n",
    "Bias, variance 의 개념을 이해하기 쉽게 예시를 들어서 설명해보겠습니다. \n"
   ]
  },
  {
   "cell_type": "markdown",
   "metadata": {},
   "source": [
    "\n",
    "<img src=\"https://lh3.googleusercontent.com/rq_iMVSuIK1K4ykF9RQnF05hH6xxWm3lmNPWuQ3hfK9r4-3GBIuCxCW3L7QH53M3EIwbVWOcaRiRLDc0AIJ-0uq8-qzavpSWPceQ1lchq-ZPF16l3KLst24-x6MbGYFqQbEJmEI3gEc\n",
    "\" width=\"500\" height=\"400\" />"
   ]
  },
  {
   "cell_type": "markdown",
   "metadata": {},
   "source": [
    "Underfitting 되었다면 low variance, high bias이기 때문에 저 위의 4개의 과녁에서 왼쪽 아래의 과녁에 해당됩니다. \n",
    "\n",
    "예측값들이 한군데에 몰려있어서 low variance이지만, 정답에서 멀기 때문에 high bias 인 것입니다. \n",
    "\n",
    "우리가 모델을 낮은 차수로 설정했다면, 그것은 직선에 가까워지고, 그렇다면 예측 값들은 직선의 근처에서만 나오기 때문에 low variance입니다. 그리고 직선은 흩뿌려진 데이터를 정확히 예측할 수 없기 때문에 정답에서 멀게 되고, high bias가 되는 것입니다. \n",
    "\n"
   ]
  },
  {
   "cell_type": "markdown",
   "metadata": {},
   "source": [
    "### 1.3.2 Overfitting\n",
    "\n",
    "이제 degree를 높게 설정해 보겠습니다. Training error인 MAE 값이 점점 감소합니다. 그러면 degree가 제일 큰 15가 MAE값이 가장 작으니까 제일 잘 맞는 모델일까요? 아닙니다!!\n",
    "\n",
    "오른쪽으로 degree를 움직일수록 우리의 모델이 곡선을 이루면서 모든 training point를 지나게 됩니다. 하지만 이제 새로운 데이터가 들어오게 된다면 어떻게 될까요? Training data를 모두 커버하려고 매우 복잡하기 때문에 새로운 데이터를 잘 못 맞추게 됩니다. 예를 들어 위에서 degree 15 일 때 맨 오른 쪽 두 점 가운데로 새로운 데이터가 들어온다면, 기존의 데이터들과 매우 비슷한 데이터이지만 우리의 모델은 매우 큰 값을 예측하게 되어 큰 오류 값을 가지게 됩니다. \n",
    "\n",
    "이것을 우리는 **overfitting**이라고 부르고, **high variance, low bias**이기 때문에 위 과녁 그림 예시에서 오른쪽 위에 해당하게 됩니다. \n",
    "\n",
    "Overfitting 은 training 과정에서는 작은 에러를 가지기에 찾아내기가 힘듭니다. 이제부터는 regularization을 통해서 overfitting을 막는 방법을 알아보겠습니다. \n",
    "\n"
   ]
  },
  {
   "cell_type": "markdown",
   "metadata": {},
   "source": [
    "## 1.4 Regularization\n",
    "\n",
    "Regularization은 overfitting 을 막는 방법입니다. Cost function에서 새로운 식을 추가해서 복잡한 모델이 되는 것을 막아주게 됩니다. 먼저 우리의 기존 모델은 다음과 같습니다. \n",
    "\n",
    "$$\\hat{y} = w_0 + w_1x + w_2x^2 + ... + w_dx^d$$\n",
    "\n",
    "차수를 가진 항들이 모델을 복잡하게 만듭니다. 그래서 그들의 계수값에 제한 조건을 추가합니다. \n",
    "\n",
    "보편적인 방법은 regularization term 인 $\\lambda\\sum_{j=1}^dw_j^2$를 추가하는 것 입니다. Mean-squared error를 사용한 cost function에 추가하면 다음과 같습니다. \n",
    "\n",
    "$$L(\\mathbf{w}) = \\frac{1}{N} \\lVert \\mathbf{y} - \\mathbf{Xw} \\rVert^2 + \\lambda \\sum_{j=1}^d w_j^2$$\n",
    "\n",
    "새롭게 만든 cost function은 계수들이 작은 값이 되는 것을 선호하게 됩니다. 왜냐하면 계수들이 커지게 되면 두번째 항이 커지게 돼서 cost 값이 늘어나게 되기 때문입니다. \n",
    "\n",
    "위 식에서 $\\lambda$는 regularization parameter 입니다. 우리가 얼마나 큰 제약을 줄 것인가를 결정하게 됩니다. $\\lambda$가 큰 값을 가질수록 계수들을 더 작게 할 수 있습니다. \n",
    "\n",
    "이번 실습에서는 $\\lambda$값을 1로 설정하겠습니다. \n",
    "\n"
   ]
  },
  {
   "cell_type": "code",
   "execution_count": 21,
   "metadata": {},
   "outputs": [],
   "source": [
    "def regularized_loss(params, model, X, y, _lambda=1.0):\n",
    "    '''\n",
    "    The mean squared error loss function with an L2 penalty.\n",
    "    Arguments:\n",
    "      params: 1D array of weights for the linear model\n",
    "      model : function for the linear regression model\n",
    "      X     : 2D array of input values\n",
    "      y     : 1D array of predicted values\n",
    "      _lambda: regularization parameter, default 1.0\n",
    "    Returns:\n",
    "      float, regularized mean squared error\n",
    "    '''\n",
    "    y_pred = model(params, X)\n",
    "    return numpy.mean( numpy.sum((y-y_pred)**2) ) + _lambda * numpy.sum( params[1:]**2 )\n",
    "\n",
    "gradient = grad(regularized_loss)    "
   ]
  },
  {
   "cell_type": "code",
   "execution_count": 22,
   "metadata": {},
   "outputs": [],
   "source": [
    "no_regularization_params = params.copy()"
   ]
  },
  {
   "cell_type": "code",
   "execution_count": 23,
   "metadata": {},
   "outputs": [
    {
     "name": "stdout",
     "output_type": "stream",
     "text": [
      "iteration 0, loss = 5434.767518111348, mae = 11.05718775676392\n",
      "iteration 100, loss = 1785.9852202374184, mae = 6.983886996350374\n",
      "iteration 200, loss = 1764.2597057711018, mae = 6.966518785947395\n",
      "iteration 300, loss = 1763.5702631188328, mae = 6.965728405272657\n"
     ]
    }
   ],
   "source": [
    "max_iter = 3000\n",
    "alpha = 0.01\n",
    "params = numpy.zeros(X_scaled.shape[1])\n",
    "descent = numpy.ones(X_scaled.shape[1])\n",
    "i = 0\n",
    "\n",
    "from sklearn.metrics import mean_absolute_error\n",
    "\n",
    "while numpy.linalg.norm(descent) > 0.01 and i < max_iter:\n",
    "    descent = gradient(params, linear_regression, X_scaled, y)\n",
    "    params = params - descent * alpha\n",
    "    loss = mse_loss(params, linear_regression, X_scaled, y)\n",
    "    mae = mean_absolute_error(y, X_scaled@params)\n",
    "    if i%100 == 0:\n",
    "        print(\"iteration {}, loss = {}, mae = {}\".format(i, loss, mae))\n",
    "    i += 1"
   ]
  },
  {
   "cell_type": "markdown",
   "metadata": {},
   "source": [
    "이제 regularization을 추가한 것과 추가하지 않은 것을 비교해보겠습니다."
   ]
  },
  {
   "cell_type": "code",
   "execution_count": 24,
   "metadata": {},
   "outputs": [
    {
     "name": "stdout",
     "output_type": "stream",
     "text": [
      "weights without regularization\n",
      "[-22.51572398   6.75930601  41.30788709  30.0105898 ]\n",
      "weights with regularization\n",
      "[-11.13750882  12.48522096  28.26626633  11.09211867]\n"
     ]
    },
    {
     "data": {
      "image/png": "[encoded data removed]",
      "text/plain": [
       "<Figure size 432x288 with 1 Axes>"
      ]
     },
     "metadata": {
      "needs_background": "light"
     },
     "output_type": "display_data"
    }
   ],
   "source": [
    "print(\"weights without regularization\")\n",
    "print(no_regularization_params)\n",
    "print(\"weights with regularization\")\n",
    "print(params)\n",
    "\n",
    "pyplot.scatter(x, y, c='r', label='true')\n",
    "pyplot.plot(xgrid, Xgrid_scaled@no_regularization_params, label='w/o regularization')\n",
    "pyplot.plot(xgrid, Xgrid_scaled@params, label='with regularization')\n",
    "pyplot.legend();"
   ]
  },
  {
   "cell_type": "markdown",
   "metadata": {},
   "source": [
    "더 다양한 차수에서 regularization을 비교해 보겠습니다."
   ]
  },
  {
   "cell_type": "code",
   "execution_count": 25,
   "metadata": {},
   "outputs": [
    {
     "data": {
      "application/vnd.jupyter.widget-view+json": {
       "model_id": "d8f08749f6314eb998659642f47a0670",
       "version_major": 2,
       "version_minor": 0
      },
      "text/plain": [
       "interactive(children=(IntSlider(value=8, description='degree', max=15, min=1), Output()), _dom_classes=('widge…"
      ]
     },
     "metadata": {},
     "output_type": "display_data"
    }
   ],
   "source": [
    "interact_polyreg(max_degree, x, y, regularized=True)"
   ]
  },
  {
   "cell_type": "markdown",
   "metadata": {},
   "source": [
    "Degree가 커질수록 regularization의 중요성이 들어나게 됩니다. 이제 높은 차수에서 예측 모델이 이리저리 움직이는 모습이 아닌 부드럽게 학습 데이터들을 지나가는 모습을 볼 수 잇습니다. 이렇게 된다면 새롭게 들어오는 데이터도 잘 예측할 수 있게 될 것입니다. "
   ]
  }
 ],
 "metadata": {
  "kernelspec": {
   "display_name": "Python 3",
   "language": "python",
   "name": "python3"
  },
  "language_info": {
   "codemirror_mode": {
    "name": "ipython",
    "version": 3
   },
   "file_extension": ".py",
   "mimetype": "text/x-python",
   "name": "python",
   "nbconvert_exporter": "python",
   "pygments_lexer": "ipython3",
   "version": "3.7.1"
  }
 },
 "nbformat": 4,
 "nbformat_minor": 1
}

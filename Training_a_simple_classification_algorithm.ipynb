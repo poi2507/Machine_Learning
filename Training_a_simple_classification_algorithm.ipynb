{
 "cells": [
  {
   "cell_type": "markdown",
   "metadata": {
    "collapsed": true,
    "pycharm": {
     "name": "#%% md\n"
    }
   },
   "source": [
    "# 2. 간단한 분류 알고리즘 훈련\n",
    "\n",
    "다음 주제를 다룬다.\n",
    "* 머신 러닝 알고리즘을 직관적으로 이해하기\n",
    "* 판다스, 넘파이 맷플롯립으로 데이터를 읽고 처리하고 시각화하기\n",
    "* 파이썬으로 선형 분류 알고리즘 구현하기\n",
    "\n",
    "## 2.1 인공 뉴런 : 초기 머신 러닝의 간단한 역사\n",
    "\n",
    "퍼셉트론(perceptron)과 이와 관련된 알고리즘을 자세히 성명하기 전에 초창기 머신 러닝을 간단히 둘러보자. AI를 설계하기 위해 생물학적 뇌가 동작하는 방식을 이해하려는 시도로,\n",
    "1943년 워런 맥컬록과 월터 피츠는 처음으로 간소화된 뇌의 누련 개념을 발표했다. 이를 **맥컬록-피츠** 뉴런이라고 한다. 뉴런들은 뇌의 신경 세포와 서로 연결되어 있다.\n",
    "\n",
    "\n",
    "![](./img/IMG_60F094157B61-1.jpeg)\n",
    "\n",
    "\n",
    "몇 년 후에 프랑크 로젠블라트는 MCP 뉴련 모델을 기반으로 페셉트론 학습 개념을 처음 발표했다.\n",
    "\n",
    "### 2.1.1 인공 뉴런의 수학적 정의\n",
    "\n",
    "좀 더 형식적으로 말하면 **인공뉴런(artificial neuron)** 아이디어를 두 개의 클래스가 있는 이진 분류 작업으로 볼 수 있다.\n",
    "두 클래스는 간단하게 1(양성 클래스)과 -1(음성 클래스)로 나타낸다. 그 다음 입력 값 x와 이에 상응하는 가중치 벡터 w의 선형 조합으로 결정함수($\\phi(z)$)를 정의한다.\n",
    "최종 입력dls $z$는 $z= w_1x_1+\\cdots+w_mx_m$이다.\n",
    "\n",
    "\n",
    "$w = \\begin{bmatrix}w_1\\\\ \\vdots\\\\ w_m \\end{bmatrix} , x =\\begin{bmatrix}x_1\\\\ \\vdots\\\\ x_m \\end{bmatrix} $\n",
    "\n",
    "이제 특정 샘플 $x^{(i)}$의 최종 입력이 사전에 정의된 임계 값 $\\theta$보다 크면 클래스 1로 예측하고, 그렇지 않으면 클래스 -1로 에측한다.\n",
    "퍼셉트론 알고리즘에서 결정 함수 $\\phi(\\cdot)$는 **단위 계단 함수**(unit step function)를 변형한 것이다.\n",
    "\n",
    "$\\phi(z)$ = 1 $z \\geq \\theta $ 일 때, -1 그  외\n",
    "\n",
    "식을 간단하게 만들기 위해 임계 값 $\\theta$를 식의 왼쪽으로 옮겨 $w_0 = -\\theta$고 $x_0 = 1$ 0번째 가중치를 정의한다.\n",
    "이렇게 하면 z를 좀 더 간단하게 쓸 수 있다.\n",
    "\n",
    "$z = w_0x_0+ w_1x_1+ \\cdots + w_mx_m = w^Tx$\n",
    "\n",
    "머신 러닝 분야에서는 음수 임계 값 또는 가중치 $w_0$를 **절편**이라고 한다.\n",
    "\n",
    "\n",
    "퍼셈트론 결정 함수로 최종 입력 $z = w^Tx$가 이진 출력(-1 또는 1)으로 압축되는 방법(왼쪽)과 이를 사용하여 선형 분리가 가능한 두 개의 클래스 사이를 구별하는 방법(오른쪽)을 보여 준다.\n",
    "\n",
    "\n",
    "![](./img/IMG_374951DB0705-1.jpeg)\n",
    "\n",
    "\n",
    "\n",
    "퍼셉트론 모델 이면에 있는 전반적인 아이디어는 뇌의 뉴런 하나가 작동하는 방식을 흉내 내려는 환원주의 접근 방식을 사용한 것이다.\n",
    "\n",
    "1. 가중치를 0 또는 랜덤한 작은 값으로 초기화 한다.\n",
    "2. 각 훈련 샘플 $x^{(i)}$에서 다음 작업을 한다.\n",
    "    - 출력 값 $\\widehat{y}$를 계산합니다.\n",
    "    - 가중치를 업데이트한다.\n",
    "\n",
    "여기서 출력 값은 앞서 정의한 단위 계단 함수로 예측한 클래스 레이블이다. 가중치 벡터 $w$에 있는 개별 가중치 $w_j$가 동시에 업데이트 되는 것을 다음과 같이 쓸 수 있다.\n",
    "\n",
    "$$w_j := w_j + \\triangle w_j$$\n",
    "\n",
    "\n",
    "가중치 $w_j$를 업데이트하는 데 사용되는 $\\triangle w_j$ 값은 퍼셉트론 학습 규칙에 따라 계산된다.\n",
    "\n",
    "$\\triangle w_j = \\eta(y^i - \\hat{y}^i)x^i_j$\n",
    "\n",
    "\n",
    "여기서 $\\eta$는\n",
    "**힉습률**(learning rate)이다.(일반적으로 0.0에서 1.0 사이 실수이다.) $y^{(i)}$는 i번째 훈련 샘플의 **진짜 클래스 레이블**이다.\n",
    "$\\hat{y}^i$는\n",
    "**에측 클래스 레이블**이다. 가중치 벡터의 **모든 가중치를 동시에 업데이트 한다는 점이 중요하다.** 즉, 모든 가중치 $\\triangle w_j$\n",
    "를 업데이트하기 전에 $\\hat{y}^i$를 다시 계산하지 않습니다. 구체적으로 2차원 데이터셋에서는 다음과 같이 업데이트 된다.\n",
    "\n",
    "\n",
    "$$\\triangle w_0  = \\eta(y^i - output^i)$$\n",
    "\n",
    "$$\\triangle w_1  = \\eta(y^i - output^i)x^i_1$$\n",
    "\n",
    "$$\\triangle w_2  = \\eta(y^i - output^i)x^i_2$$\n",
    "\n",
    "\n",
    "\n",
    "$y^i = +1, \\hat{y}^i = -1 , \\eta = 1$\n",
    "\n",
    "$x_j = 0.5$일 때 이 샘플을 -1로 잘못 분류했다고 가정한다. 이때 가중치가 1만큼 증가되어 다음 번에 샘플을 만났을 때 최종 입력\n",
    "$x^i_j \\times w^i_j$가 더 큰 양수가 된다. 샘플을 +1로 분류될 가능성이 높아질 것이다.\n",
    "\n",
    "$$\\triangle w^i_j = (1--1)\\cdot 0.5 = (2)\\cdot0.5 = 1$$\n",
    "\n",
    "가중치 업데이트는 $x^i_j$ 값에 비례한다. 예를 들어 다른 샘플 $x^i_j = 2$를 -1로 잘못 분류했다면 이 샘플을 다음번에 올바르게 분류하기 위해 더 크게 결정 경계를 움직인다.\n",
    "\n",
    "$$\\triangle w^i_j = (1--1)\\cdot 2 = (2)\\cdot2 = 4$$\n",
    "\n",
    "퍼셉트론은 두 클래스가 선형적으로 구분되고 학습률이 충분히 작을 때만 수렴이 보장된다.\n",
    "두 클래스를 선형 결정 경계로 나눌 수 없다면 훈련 데이터셋을 반복할 최대 횟수(**에포크**(epoch))를 지정하고 분류 허용 오차를 지정할 수 있다. 그렇지 않으면 퍼셉트론은 가중치 업데이트를 멈추지 않는다.\n",
    "\n",
    "![](./img/IMG_EC245541F2EB-1.jpeg)\n",
    "\n",
    "\n",
    "\n",
    "## 2.2 파이썬으로 퍼셉트론 학습 알고리즘 구현\n",
    "\n",
    "### 2.2.1 객체 지향 퍼셉트론 API\n",
    "\n",
    "퍼셉트론 구현은 다음과 같습니다."
   ]
  },
  {
   "cell_type": "code",
   "execution_count": 5,
   "metadata": {
    "pycharm": {
     "name": "#%%\n"
    }
   },
   "outputs": [],
   "source": [
    "import numpy as np\n",
    "\n",
    "class Perceptron(object):\n",
    "    \"\"\"\n",
    "    퍼셉트론 분류기\n",
    "\n",
    "    매개변수\n",
    "    -----------------\n",
    "    eta : float\n",
    "        학습률 (0.0과 1.0사이)\n",
    "    n_iter : int\n",
    "        훈련 데이터셋 반복 횟수\n",
    "    random_state : int\n",
    "        가중치 무작위 초기화를 위한 난수 생성기 시드\n",
    "\n",
    "    속성\n",
    "    -----------------\n",
    "    w_ : 1d-array\n",
    "        학습된 가중치\n",
    "    errors_ : list\n",
    "        에포크마다 누적된 분류 오류\n",
    "    \"\"\"\n",
    "\n",
    "    def __init__(self, eta=0.01, n_iter=50, random_state=1):\n",
    "        self.eta = eta\n",
    "        self.n_iter = n_iter\n",
    "        self.random_state = random_state\n",
    "\n",
    "    def fit(self, X, y):\n",
    "        \"\"\"\n",
    "        훈련데이터 학습\n",
    "        :param X: {array-like}, shape = [n_samples, n_features]\n",
    "                n_samples개의 샘플과 n_features개의 특성으로 이루어진 훈련 데이터\n",
    "        :param y: array-like, shape = [n_samples]\n",
    "                target value\n",
    "        :return:\n",
    "        self : object\n",
    "        \"\"\"\n",
    "\n",
    "        rgen = np.random.RandomState(self.random_state)\n",
    "        self.w_ = rgen.normal(loc = 0.0, scale=0.01, size=1 +X.shape[1])\n",
    "        self.errors_ = []\n",
    "\n",
    "        for _ in range(self.n_iter):\n",
    "            errors = 0\n",
    "            for xi, target in zip(X, y):\n",
    "                update = self.eta * (target - self.predict(xi))\n",
    "                self.w_[1:] += update * xi\n",
    "                self.w_[0] += update\n",
    "                errors += int(update != 0.0)\n",
    "\n",
    "            self.errors_.append(errors)\n",
    "        return self\n",
    "\n",
    "\n",
    "    def net_input(self, X):\n",
    "        \"\"\"최종 입력 계산\"\"\"\n",
    "        return np.dot(X, self.w_[1:] + self.w_[0])\n",
    "\n",
    "    def predict(self, X):\n",
    "        \"\"\"단위 계단 함수를 사용하여 클래스 레이블을 반환한다.\"\"\"\n",
    "\n",
    "        return np.where(self.net_input(X) >= 0.0, 1, -1)"
   ]
  },
  {
   "cell_type": "markdown",
   "metadata": {
    "pycharm": {
     "name": "#%% md\n"
    }
   },
   "source": [
    "퍼셉트론 구현을 사용하여 학습률 eta와 에포크 횟수 n_iter로 새로운 perceptron 객체를 초기화 한다. fit 메서드에서 self.w_ 가중치\n",
    "벡터 $R^{m+1}$로 초기호한다. 여기서 m은 데이터셋에 있는 차원 개수이다. 벡터의 첫 번째 원소인 절편을 위해 1을 더한다.\n",
    "\n",
    "이 벡더는 rgen.normal(loc = 0.0, scale=0.01, size=1 + X.shape[1])을 사용하여 표준 편차가 0,01인 정규 분포에서 뽑은 랜덤한 작은 수를 담고 있다.\n",
    "\n",
    "가중치를 0으로 초기화하지 않는 이유는 가중치가 0이 아니어야 학습률 $\\eta$가 분류 결과에 영향을 주기 때문이다."
   ]
  },
  {
   "cell_type": "code",
   "execution_count": 6,
   "metadata": {
    "pycharm": {
     "name": "#%%\n"
    }
   },
   "outputs": [
    {
     "data": {
      "text/plain": "0.0"
     },
     "execution_count": 6,
     "metadata": {},
     "output_type": "execute_result"
    }
   ],
   "source": [
    "v1 = np.array([1, 2, 3])\n",
    "v2 = 0.5 * v1\n",
    "\n",
    "np.arccos(v1.dot(v2) / (np.linalg.norm(v1) * np.linalg.norm(v2)))"
   ]
  },
  {
   "cell_type": "markdown",
   "metadata": {
    "pycharm": {
     "name": "#%% md\n"
    }
   },
   "source": [
    "np.arccos 함수는 역코사인 삼각 함수고 np.linalg.norm은 벡터 길이를 계산하는 함수이다.\n",
    "\n",
    "fit 메서드는 가중치를 초기화한 후 훈련 세트에 있는 모든 개개의 샘플을 반복 순회하면서 이전 절에서 설명한 퍼셉트론 학습 규칙에 따라 가중치를 업데이트한다.\n",
    "클래스 레이블은 predict 메서드에서 예측한다. fit 메서드에서 가중치를 업데이트하기 위해 predict메서드를 호출하여 클래스 레이블에 대한 예측을 얻는다.\n",
    "predict 메서드는 모델이 학습되고 난 후 새로운 데이터의 클래스 레이블을 예측하는 데도 사용할 수 있다. 에포크마다 self.errors_ 리스트에 잘못 분류된 횟수를 기록한다.\n",
    "나중에 훈련하는 동안 얼마나 퍼셉트론을 잘 수행했는지 분석 할 수 있다. np.dot 함수는 벡터 접곱 $w^Tx$를 계산한다."
   ]
  },
  {
   "cell_type": "markdown",
   "metadata": {
    "pycharm": {
     "name": "#%% md\n"
    }
   },
   "source": [
    "### 2.2.2 불꽃 데이터셋에서 퍼셉트론 훈련\n",
    "\n",
    "* note\n",
    "        이따금 OVR(One-versus-Rest)이라고도 하는 OVA(One-versus-All) 기법을 사용하여 이진 분류기를 다중 클래스 문제에 적용할 수 있다. OVA를 사용할 때 클래스마다\n",
    "        하나의 분류기를 훈련한다. 각 클래스는 양설 클래스로 취급되고 다른 클래스의 샘플은 모두 음석 클래스로 생각한다. 새로운 데이터 샘플을 분류할 때는 클래스 레이블의 개수와 같은 n개의 분류기를 사용한다.\n",
    "        신뢰도가 가장 높은 클래스 레이블을 샘플에 할당한다. 페섭트론은 OvA를 사용하여 최종 입력의 절댓값이 가장 큰 클래스를 레이블로 선택한다."
   ]
  },
  {
   "cell_type": "code",
   "execution_count": 1,
   "metadata": {
    "pycharm": {
     "name": "#%%\n"
    }
   },
   "outputs": [],
   "source": [
    "import pandas as pd\n",
    "from sklearn.datasets import load_iris\n",
    "\n",
    "\n",
    "df = pd.DataFrame(data = load_iris().data, columns=load_iris().feature_names)\n",
    "df['target'] = load_iris().target\n",
    "\n",
    "df.tail()"
   ]
  },
  {
   "cell_type": "code",
   "execution_count": 16,
   "metadata": {
    "pycharm": {
     "name": "#%%\n"
    }
   },
   "outputs": [],
   "source": [
    "import matplotlib.pyplot as plt\n",
    "import numpy as np\n",
    "import seaborn as sns"
   ]
  },
  {
   "cell_type": "code",
   "execution_count": 19,
   "metadata": {
    "pycharm": {
     "name": "#%%\n"
    }
   },
   "outputs": [],
   "source": [
    "df.loc[df.target==0,'target']=-1\n",
    "\n",
    "df.loc[df.target==2,'target']=1"
   ]
  },
  {
   "cell_type": "code",
   "execution_count": 20,
   "metadata": {
    "pycharm": {
     "name": "#%%\n"
    }
   },
   "outputs": [
    {
     "data": {
      "text/plain": "     sepal length (cm)  sepal width (cm)  petal length (cm)  petal width (cm)  \\\n0                  5.1               3.5                1.4               0.2   \n1                  4.9               3.0                1.4               0.2   \n2                  4.7               3.2                1.3               0.2   \n3                  4.6               3.1                1.5               0.2   \n4                  5.0               3.6                1.4               0.2   \n..                 ...               ...                ...               ...   \n145                6.7               3.0                5.2               2.3   \n146                6.3               2.5                5.0               1.9   \n147                6.5               3.0                5.2               2.0   \n148                6.2               3.4                5.4               2.3   \n149                5.9               3.0                5.1               1.8   \n\n     target  \n0        -1  \n1        -1  \n2        -1  \n3        -1  \n4        -1  \n..      ...  \n145       1  \n146       1  \n147       1  \n148       1  \n149       1  \n\n[150 rows x 5 columns]",
      "text/html": "<div>\n<style scoped>\n    .dataframe tbody tr th:only-of-type {\n        vertical-align: middle;\n    }\n\n    .dataframe tbody tr th {\n        vertical-align: top;\n    }\n\n    .dataframe thead th {\n        text-align: right;\n    }\n</style>\n<table border=\"1\" class=\"dataframe\">\n  <thead>\n    <tr style=\"text-align: right;\">\n      <th></th>\n      <th>sepal length (cm)</th>\n      <th>sepal width (cm)</th>\n      <th>petal length (cm)</th>\n      <th>petal width (cm)</th>\n      <th>target</th>\n    </tr>\n  </thead>\n  <tbody>\n    <tr>\n      <th>0</th>\n      <td>5.1</td>\n      <td>3.5</td>\n      <td>1.4</td>\n      <td>0.2</td>\n      <td>-1</td>\n    </tr>\n    <tr>\n      <th>1</th>\n      <td>4.9</td>\n      <td>3.0</td>\n      <td>1.4</td>\n      <td>0.2</td>\n      <td>-1</td>\n    </tr>\n    <tr>\n      <th>2</th>\n      <td>4.7</td>\n      <td>3.2</td>\n      <td>1.3</td>\n      <td>0.2</td>\n      <td>-1</td>\n    </tr>\n    <tr>\n      <th>3</th>\n      <td>4.6</td>\n      <td>3.1</td>\n      <td>1.5</td>\n      <td>0.2</td>\n      <td>-1</td>\n    </tr>\n    <tr>\n      <th>4</th>\n      <td>5.0</td>\n      <td>3.6</td>\n      <td>1.4</td>\n      <td>0.2</td>\n      <td>-1</td>\n    </tr>\n    <tr>\n      <th>...</th>\n      <td>...</td>\n      <td>...</td>\n      <td>...</td>\n      <td>...</td>\n      <td>...</td>\n    </tr>\n    <tr>\n      <th>145</th>\n      <td>6.7</td>\n      <td>3.0</td>\n      <td>5.2</td>\n      <td>2.3</td>\n      <td>1</td>\n    </tr>\n    <tr>\n      <th>146</th>\n      <td>6.3</td>\n      <td>2.5</td>\n      <td>5.0</td>\n      <td>1.9</td>\n      <td>1</td>\n    </tr>\n    <tr>\n      <th>147</th>\n      <td>6.5</td>\n      <td>3.0</td>\n      <td>5.2</td>\n      <td>2.0</td>\n      <td>1</td>\n    </tr>\n    <tr>\n      <th>148</th>\n      <td>6.2</td>\n      <td>3.4</td>\n      <td>5.4</td>\n      <td>2.3</td>\n      <td>1</td>\n    </tr>\n    <tr>\n      <th>149</th>\n      <td>5.9</td>\n      <td>3.0</td>\n      <td>5.1</td>\n      <td>1.8</td>\n      <td>1</td>\n    </tr>\n  </tbody>\n</table>\n<p>150 rows × 5 columns</p>\n</div>"
     },
     "execution_count": 20,
     "metadata": {},
     "output_type": "execute_result"
    }
   ],
   "source": [
    "df"
   ]
  },
  {
   "cell_type": "code",
   "execution_count": 21,
   "metadata": {
    "pycharm": {
     "name": "#%%\n"
    }
   },
   "outputs": [
    {
     "data": {
      "text/plain": "array([-1,  1])"
     },
     "execution_count": 21,
     "metadata": {},
     "output_type": "execute_result"
    }
   ],
   "source": [
    "y = df.loc[0:100, 'target']\n",
    "X = df.loc[0:100,['sepal length (cm)', 'petal length (cm)']].values\n",
    "\n",
    "pd.unique(df.loc[:100,'target'])"
   ]
  },
  {
   "cell_type": "code",
   "execution_count": 22,
   "metadata": {
    "pycharm": {
     "name": "#%%\n"
    }
   },
   "outputs": [
    {
     "data": {
      "text/plain": "<matplotlib.axes._subplots.AxesSubplot at 0x7fd5a7a84d68>"
     },
     "execution_count": 22,
     "metadata": {},
     "output_type": "execute_result"
    },
    {
     "data": {
      "text/plain": "<Figure size 432x288 with 1 Axes>",
      "image/png": "[encoded data removed]"
     },
     "metadata": {
      "needs_background": "light"
     },
     "output_type": "display_data"
    }
   ],
   "source": [
    "sns.scatterplot(data = df[['sepal length (cm)', 'petal length (cm)','target']][:100], x='sepal length (cm)',y='petal length (cm)' , hue='target')\n"
   ]
  },
  {
   "cell_type": "code",
   "execution_count": 23,
   "metadata": {
    "pycharm": {
     "name": "#%%\n"
    }
   },
   "outputs": [
    {
     "data": {
      "text/plain": "<Figure size 432x288 with 1 Axes>",
      "image/png": "[encoded data removed]"
     },
     "metadata": {
      "needs_background": "light"
     },
     "output_type": "display_data"
    }
   ],
   "source": [
    "ppn = Perceptron(eta=0.1, n_iter=10)\n",
    "ppn.fit(X, y)\n",
    "plt.plot(range(1, len(ppn.errors_) + 1), ppn.errors_, marker = 'o')\n",
    "plt.xlabel('Epochs')\n",
    "plt.ylabel('Number of errors')\n",
    "plt.show()"
   ]
  },
  {
   "cell_type": "markdown",
   "metadata": {
    "pycharm": {
     "name": "#%% md\n"
    }
   },
   "source": [
    "퍼셉트론은 여섯 번째 에포크 이후에 수렴했고 훈련 샘플을 완벽하게 분류했다."
   ]
  },
  {
   "cell_type": "code",
   "execution_count": 7,
   "metadata": {
    "pycharm": {
     "name": "#%%\n"
    }
   },
   "outputs": [],
   "source": [
    "from matplotlib.colors import ListedColormap\n",
    "\n",
    "def plot_decision_regions(X, y, classifier, resolution=0.02):\n",
    "    # 마커와 컬러맵을 설정\n",
    "    markers = ('s', 'x', 'o', '^', 'v')\n",
    "    colors = ('red', 'blue', 'lightgreen', 'gray', 'cyan')\n",
    "    cmap = ListedColormap(colors[:len(np.unique(y))])\n",
    "\n",
    "    # 결정 경계를 그린디.\n",
    "    x1_min, x1_max = X[:,0].min() - 1, X[:,0].max() + 1\n",
    "    x2_min, x2_max = X[:,1].min() - 1, X[:,1].max() + 1\n",
    "    xx1, xx2 = np.meshgrid(np.arange(x1_min, x1_max, resolution),\n",
    "                           np.arange(x2_min, x2_max, resolution))\n",
    "    Z = classifier.predict(np.array([xx1.ravel(), xx2.ravel()]).T) # ravel 배열을 1차원으로 reshape(-1)이랑 같음\n",
    "    print(pd.Series(Z).value_counts())\n",
    "    Z = Z.reshape(xx1.shape)\n",
    "    plt.contourf(xx1, xx2, Z, alpha=0.3, cmap=cmap)\n",
    "    plt.xlim(xx1.min(), xx1.max())\n",
    "    plt.ylim(xx2.min(), xx2.max())\n",
    "\n",
    "    for idx, cl in enumerate(np.unique(y)):\n",
    "        plt.scatter(x=X[y == cl, 0], y=X[y == cl, 1],\n",
    "                    alpha=0.8,\n",
    "                    c=colors[idx],\n",
    "                    marker=markers[idx],\n",
    "                    label=cl,\n",
    "                    edgecolors='black')"
   ]
  },
  {
   "cell_type": "markdown",
   "metadata": {
    "pycharm": {
     "name": "#%% md\n"
    }
   },
   "source": [
    "먼저 colors와 markers를 정의하고 ListedColormap을 사용하여 colors 리스트에서 컬러맵을 만든다. 두 특성의 최솟값과 최댓값을\n",
    "찾고 이 벡터로 넘파이 meshgrid(meshgrid x 값의 배열과 y 값의 배열로 직사각형 격자를 만드는 것이 목적) 함수로 그리드 배열 xx1과 xx2 쌍을 만든다.\n",
    "두 특성의 차원에서 퍼셉트론 분류기를 훈련했기 때문에 그리드 배열을 펼치고 훈형 데이터와 같은 개수의 열이 되도록 행렬을 만든다.\n",
    "predict 메서드로 그리도 각 포인트에 대응하는 레이블 Z를 예측한다.\n",
    "\n",
    "클래스 레이블 z를 xx1, xx2 같은 차원의 그리도 크기를 변경한 후 맷플롯립의 contourf 함수로 등고선 그래프를 그린다. 그리드 배열에 대한 예측한 클래스를 각기 다른 색깔로 맵핑하여 결정 영역을 나타낸다."
   ]
  },
  {
   "cell_type": "code",
   "execution_count": 26,
   "metadata": {
    "pycharm": {
     "name": "#%%\n"
    }
   },
   "outputs": [
    {
     "name": "stdout",
     "output_type": "stream",
     "text": [
      " 1    47098\n",
      "-1    35152\n",
      "dtype: int64\n"
     ]
    },
    {
     "data": {
      "text/plain": "<Figure size 432x288 with 1 Axes>",
      "image/png": "[encoded data removed]"
     },
     "metadata": {
      "needs_background": "light"
     },
     "output_type": "display_data"
    }
   ],
   "source": [
    "plot_decision_regions(X, y, classifier=ppn)\n",
    "plt.xlabel(\"sepal length [cm]\")\n",
    "plt.ylabel(\"pepal length [cm]\")\n",
    "plt.legend()\n",
    "plt.show()"
   ]
  },
  {
   "cell_type": "markdown",
   "metadata": {
    "pycharm": {
     "name": "#%% md\n"
    }
   },
   "source": [
    "퍼셉트론이 두 개의 붓꽃 클래스를 완벽하게 분류했지만 퍼셉트론의 가장 큰 문제점은 수렴에 있다.\n",
    "퍼셉트론 학습 규칙이 두 개의 클래스가 선형적인 초평면으로 구분될 수 있을 때 수렴한다는 것을 수학적으러 증명했다. 선형 결정 결계로 완벽하게 클래스가\n",
    "구분되지 않는다면 최대 에포크를 지정하지 않는 한 가중치 업데이트 과정이 멈추지 않는다.\n"
   ]
  },
  {
   "cell_type": "markdown",
   "metadata": {
    "pycharm": {
     "name": "#%% md\n"
    }
   },
   "source": [
    "## 2.3 적응형 선형 뉴런과 학습의 수렴\n",
    "\n",
    "단일츨 신경망의 또 다른 종류인 **적응형 선형 뉴런**을 살펴보자! 아달린은 퍼셉트론의 향상된 버전으로 볼 수 있다.\n",
    "\n",
    "아달린은 연속 함수로 비용 함수를 정의하고 최소화하는 핵심 개념을 보여 주기 때문에 아주 흥미롭다. logistic regression, SVM, 회귀 모델을 이해하는 데 도움이 될 것이다.\n",
    "\n",
    "아달린 규칙(위드로우-호프 규칙이라고도 함)과 로젠블라트 페섭트론의 가장 큰 차이점은 가중치를 업데이트하는 데 퍼셉트론 처럼 단위 계단 함수 대신 선형 활성화 함수를 사용하는 것이다.\n",
    "\n",
    "$$\\phi(w^Tx) = w^Tx$$\n",
    "\n",
    "선형 활성화 함수가 가중치 학습에 사용되지만 최종 예측을 만드는 데 여전히 임계 함수를 사용한다.\n",
    "\n",
    "|페셉트론|아달린|\n",
    "|---|----|\n",
    "|![퍼셉트론](./img/IMG_ED224B6068B8-1.jpeg)|![아달린](./img/IMG_BE88EA4EEFD4-1.jpeg) |\n",
    "\n",
    "\n",
    "\n",
    "아달린 알고리즘은 진짜 클래스 레이블과 선형 활성화 함수의 실수 출력 값을 비교하여 모델의 오차를 계산하고 가중치를 업데이트한다. 반대로 페셉트론은 진짜 클래스 레이블과 예측 클래스 레이블을 비교한다.\n",
    "\n",
    "\n",
    "### 2.3.1 경사 하강법으로 비용 함수 최소화\n",
    "\n",
    "지도 학습 알고리즘의 핵심 구성 요소는 학습 과정 동안 최적화하기 위해 정의한 **목적 함수**(object function)이다. 종종 최소화하려는 비용 함수가 목적 함수가 된다.\n",
    "아달린은 계산된 출력과 진짜 클래스 레이블 사이의 **제곱 오차합**으로 가중치를 학습할 비용함수 J를 정의한다.\n",
    "\n",
    "\n",
    "$$J(w) = \\frac{1}{2} \\sum_i(y^{(i)} - \\phi(z^{(i)}))^2$$\n",
    "\n",
    "$\\frac{1}{2}$항은 그래디언트를 간소하게 만들려고 편의상 추가한 것이다.\n",
    "단위 계산 함수 대신 연속적인 선형 활성화 함수를 사용하는 장점은 비용함수가 미분 가능해진다는 것이다. 이 비용함수의 또 다른 장점은 볼록 함수라는 것이다.\n",
    "간단하지만 강력한 최적화 알고리즘 **경사 하강법**을 적용해 비용함수를 최소화 하는 가중치를 찾을 수 있다.\n",
    "\n",
    "**경사 하강법 이면에 있는 핵심 아이디어를 지역 또는 전역 최솟값에 도달할 때까지 언던을 내려오는 것으로 묘사한다.**\n",
    "진행의 크기는 경사의 기울기와 학습률로 결정한다.\n",
    "\n",
    "![](./img/IMG_A4B88749AC5B-1.jpeg)\n",
    "\n",
    "\n",
    "경사 하강법을 사용하면 비용 함수 $J(w)$의 그래이언드 $\\Delta J(w)$ 반대 방향으로 가중치를 업데이트 한다.\n",
    "\n",
    "$$w := w + \\triangle w$$\n",
    "\n",
    "가중치 변화량 $\\triangle w$는 음수의 그래디언트에 학습률 $\\eta$를 곱한 것으로 정의한다.\n",
    "\n",
    "$$\\triangle w = -\\eta \\Delta J(w)$$\n",
    "\n",
    "비용 함수의 그래디언트를 계산하려면 각 가중치 $w_j$에 대한 편도 함수를 계산해야 한다.\n",
    "\n",
    "$$\\frac{\\delta J}{\\delta w_j} = -\\sum_i(y_i - \\phi(z^i))x^i_j$$\n",
    "\n",
    "따라서 가중치 $w_j$의 업데이트 공식을 다음과 같이 쓸 수 있다.\n",
    "\n",
    "$$\\triangle w_j = -\\eta \\frac{\\delta J}{\\delta w_j} = \\eta \\sum_i(y_i-\\phi(z^i))x^i_j$$\n",
    "\n",
    "아달린 학습 규칙이 퍼셉트론 규칙과 동일하게 보이지만 $z^i = w^Tx^i$인 $\\phi(z^i)$는 정수 클래스 레이블이 아니고 실수이다.\n",
    "훈련 세트에 있는 모든 샘플을 기반으로 가중치 업데이트를 계산한다. 이 방식을 배치 경사 하강법이라고 한다.\n",
    "\n",
    "<br><br><br>\n",
    "\n",
    "### 2.3.2 파이썬으로 아달린 구현"
   ]
  },
  {
   "cell_type": "code",
   "execution_count": 14,
   "metadata": {
    "pycharm": {
     "name": "#%%\n"
    }
   },
   "outputs": [],
   "source": [
    "class AdalineGD(object):\n",
    "    \"\"\" 적응형 선형 뉴런 분류기\n",
    "\n",
    "    매개변수\n",
    "    --------------------\n",
    "    eta : float\n",
    "        학습률 (0.0과 1.0사이)\n",
    "    n_iter : int\n",
    "        훈련 데이터셋 반복 횟수\n",
    "    random_state : int\n",
    "        가중치 무작위 초기화를 위한 난수 생성기 시드\n",
    "\n",
    "    속성\n",
    "    --------------------\n",
    "    w_ : 1d-array\n",
    "        학습된 가중치\n",
    "    cost_ : list\n",
    "        에포크마다 누적된 비용 함수의 제곱합\n",
    "\n",
    "    \"\"\"\n",
    "\n",
    "\n",
    "    def __init__(self, eta=0.01, n_iter=50, random_state=1):\n",
    "        self.eta = eta\n",
    "        self.n_iter = n_iter\n",
    "        self.random_state = random_state\n",
    "\n",
    "\n",
    "    def fit(self, X, y):\n",
    "        rgen = np.random.RandomState(self.random_state)\n",
    "        self.w_ = rgen.normal(loc=0.0, scale=0.01, size=1 + X.shape[1])\n",
    "\n",
    "        self.cost_ = []\n",
    "\n",
    "        for i in range(self.n_iter):\n",
    "            net_input = self.net_input(X)\n",
    "            output = self.activation(net_input)\n",
    "            errors = (y - output)\n",
    "            self.w_[1:] += self.eta * X.T.dot(errors)\n",
    "            self.w_[0] += self.eta * errors.sum()\n",
    "\n",
    "            cost = (errors**2).sum() / 2.0\n",
    "            self.cost_.append(cost)\n",
    "        return self\n",
    "\n",
    "    def net_input(self, X):\n",
    "        return np.dot(X, self.w_[1:]) + self.w_[0]\n",
    "\n",
    "    def activation(self, X):\n",
    "        return X\n",
    "\n",
    "    def predict(self, X):\n",
    "        return np.where(self.activation(self.net_input(X)) >= 0.0, 1, -1)"
   ]
  },
  {
   "cell_type": "markdown",
   "metadata": {
    "pycharm": {
     "name": "#%% md\n"
    }
   },
   "source": [
    "퍼셉트론처럼 개별 훈련 샘플마다 평가한 후 가중치를 업데이트하지 않고 전체 훈련 데이터셋을 기반으로 그래디언트를 계산한다. 절편은 self.eta * errors.sum()\n",
    "가중치 1에서 m 까지는 self.eta *X.T.dot(errors)이다. 여기서 X.T.dot(errors)는 특성 행렬과 오차 벡터 간의 행렬-벡터 곱셉이다.\n",
    "\n",
    "이 코드의 activation 메서드는 단순한 항등 함수이기 때문에 아무런 영향을 미치지 않는다. 단일층 신경망을 통해 정보가 어떻게 흘러가는지를 표시하려고 활성화 함수를 추가했다.\n",
    "입력 데이터의 특성에서 최종 입력, 활성화, 출력 순으로 진행된다.\n",
    "\n",
    "실전에서는 최적으로 수렴하는 좋은 학습률 $\\eta$를 찾기 위해 여러 번 실험을 해야 한다. 두 개의 학습률 $\\eta = 0.1$과 $\\eta = 0.0001$을 선택 해보자.\n",
    "에포크 횟수 대비 비용함수의 값을 그래프로 나타내면 아달린 구현이 훈련 데이터에서 얼마나 잘 학습하는지 볼 수 있다."
   ]
  },
  {
   "cell_type": "code",
   "execution_count": 16,
   "metadata": {
    "pycharm": {
     "name": "#%%\n"
    }
   },
   "outputs": [
    {
     "data": {
      "image/png": "[encoded data removed]",
      "text/plain": [
       "<Figure size 720x288 with 2 Axes>"
      ]
     },
     "metadata": {
      "needs_background": "light"
     },
     "output_type": "display_data"
    }
   ],
   "source": [
    "fig, ax = plt.subplots(nrows=1, ncols=2, figsize=(10, 4))\n",
    "\n",
    "adal = AdalineGD(n_iter=10, eta=0.01).fit(X, y)\n",
    "ax[0].plot(range(1, len(adal.cost_) +1), np.log10(adal.cost_), marker='o')\n",
    "ax[0].set_xlabel('Epochs')\n",
    "ax[0].set_ylabel('log(Sum-squared-error)')\n",
    "ax[0].set_title('Adaline - Learning rate 0.01')\n",
    "\n",
    "adal_2 = AdalineGD(n_iter=10, eta=0.0001).fit(X, y)\n",
    "ax[1].plot(range(1, len(adal_2.cost_) +1), np.log10(adal_2.cost_), marker='o')\n",
    "ax[1].set_xlabel('Epochs')\n",
    "ax[1].set_ylabel('log(Sum-squared-error)')\n",
    "ax[1].set_title('Adaline - Learning rate 0.0001')\n",
    "plt.show()"
   ]
  },
  {
   "cell_type": "markdown",
   "metadata": {},
   "source": [
    "출력된 비용 함수 그래프에서 불 수 있듯이 두 개의 다른 문제가 발생했다.\n",
    "왼쪽 그래프는 학습률이 너무 클 때 발생한다. 비용함수를 최소화하지 못하고 오차는 에포크마다 점점 커진다. 전역 최솟값을 지나쳤기 때문이다. 반면 오른쪽 그래프에서는 비용이 감소하지만 학습률 $\\eta =0.0001$은 너무 작기 때문에 전역 최솟값에 수렴하려면 많은 에포크가 필요하다"
   ]
  },
  {
   "cell_type": "markdown",
   "metadata": {},
   "source": [
    "### 2.3.3 특성 스케일을 조정하여 경사 하강법 결과 향상\n"
   ]
  },
  {
   "cell_type": "markdown",
   "metadata": {},
   "source": [
    "경사 하강법은 특성 스케일을 조정하여 혜택을 볼 수 있는 많은 알고리즘 중 하나이다. \n",
    "\n",
    "표준화라고 하는 특성 스케일 방법을 사용한다. 데이터에 표준 정규 분포의 성징을 부여하여 경사 하강법 학습이 좀더 빠리게 수렵되도록 돕는다.\n",
    "\n",
    "$$x^{'}_j = \\frac{x_j-u_j}{\\sigma_j}$$\n",
    "\n",
    "표준화가 경사 하강법 학습에 도움이 되는 이유 중 하나는 아래 그림 처럼 더 적은 단계를 거쳐 최적 혹은 좋은 솔루션을 찾기 때문이다. "
   ]
  },
  {
   "cell_type": "markdown",
   "metadata": {},
   "source": [
    "![](./img/IMG_EAD1BBB4FAE4-1.jpeg)"
   ]
  },
  {
   "cell_type": "code",
   "execution_count": 9,
   "metadata": {},
   "outputs": [],
   "source": [
    "# 표준화\n",
    "\n",
    "x_std = np.copy(X)\n",
    "x_std[:,0] = (X[:,0] - X[:,0].mean()) / X[:,0].std()\n",
    "x_std[:,1] = (X[:,1] - X[:,1].mean()) / X[:,1].std()"
   ]
  },
  {
   "cell_type": "code",
   "execution_count": 19,
   "metadata": {},
   "outputs": [
    {
     "name": "stdout",
     "output_type": "stream",
     "text": [
      " 1    48303\n",
      "-1    35978\n",
      "dtype: int64\n"
     ]
    },
    {
     "data": {
      "image/png": "[encoded data removed]",
      "text/plain": [
       "<Figure size 432x288 with 1 Axes>"
      ]
     },
     "metadata": {
      "needs_background": "light"
     },
     "output_type": "display_data"
    }
   ],
   "source": [
    "ada = AdalineGD(n_iter=15, eta=0.01)\n",
    "ada.fit(x_std, y)\n",
    "\n",
    "plot_decision_regions(x_std, y, classifier=ada)\n",
    "plt.title(\"Adaline-Gradient Descent\")\n",
    "plt.xlabel(\"sepal lenth[stadardized]\")\n",
    "plt.ylabel(\"petal lenth[stadardized]\")\n",
    "plt.legend()\n",
    "plt.show()"
   ]
  },
  {
   "cell_type": "code",
   "execution_count": 21,
   "metadata": {},
   "outputs": [
    {
     "data": {
      "text/plain": [
       "Text(0.5, 1.0, 'Adaline - Standardization')"
      ]
     },
     "execution_count": 21,
     "metadata": {},
     "output_type": "execute_result"
    },
    {
     "data": {
      "image/png": "[encoded data removed]",
      "text/plain": [
       "<Figure size 432x288 with 1 Axes>"
      ]
     },
     "metadata": {
      "needs_background": "light"
     },
     "output_type": "display_data"
    }
   ],
   "source": [
    "\n",
    "plt.plot(range(1, len(ada.cost_) +1), ada.cost_, marker='o')\n",
    "plt.xlabel('Epochs')\n",
    "plt.ylabel('Sum-squared-error')\n",
    "plt.title('Adaline - Standardization')\n",
    "\n"
   ]
  },
  {
   "cell_type": "markdown",
   "metadata": {},
   "source": [
    "### 2.3.4 대규모 머신 러닝과 확률적 경사 하강법"
   ]
  },
  {
   "cell_type": "markdown",
   "metadata": {},
   "source": [
    "* 배치 경사 하강법 : 전체 훈련 세트에서 계산한 드래디언트의 반대 방향으로 한 걸을씩 진행하여 비용 함수를 최고화하는 방법\n",
    "    - 데이터셋이 매우 큰 경우 계산 비용이 많이 든다.\n",
    "\n",
    "* 확률적 경사 하강법 : 첫 번쨰 수칙 처럼 모든 샘플 $x^{(i)}$에 대하여 누적된 오차의 합을 기반으로 가중치를 업데이트하는 대신 두 번째 수식처럼 각 훈련 샘플에 대해서 조금씩 가중치를 업데이트한다.\n",
    "\n",
    "$$\\triangle w = \\eta \\sum_i(y^{(i)} - \\phi(z^{(i)})x^{(i)}$$\n",
    "\n",
    "$$\\triangle w = \\eta (y^{(i)} - \\phi(z^{(i)})x^{(i)}$$\n",
    "\n",
    "\n",
    "확률적 경사 하강법을 경사하강버의 근사로 생각할 수 있지만 가중치가 더 자주 업데이트되기 떄문에 수렴 속도가 훨씬 빠르다. 그래디언트가 하나의 훈련 샘플을 기반으로 계산되므로 오차의 궤적은 배치 경사 하강법보다 훨씬 어지럽다. \n",
    "\n",
    "비선형 비용 함수를 다룰 떄 얕은 지역 최솟값을 더 쉽게 탈출할 수 있어 장접이 되기도 한다. \n",
    "\n",
    "\n",
    "Note"
   ]
  },
  {
   "cell_type": "markdown",
   "metadata": {
    "pycharm": {
     "name": "#%% md\n"
    }
   },
   "source": [
    "확률적 경사 하강법 구현에는 종종 고정된 학습률 $\\eta$를 시간이 지남에 따라 적응적인 학습률로 대체한다.\n",
    "\n",
    "\n",
    "$$ \\frac{c_1}{[number-of-iterations] + c_2 }$$\n",
    "\n",
    " 여기서 $c_1$과 $c_2$는 상수이다. 확률적 영사 하강법은 전역 최솟값에 도달하지 못하지만 매우 가까운 지역에 근접한다. 적응적 학습률을 사용하면 최솟값에 더욱 가깝게 다가갈 수 있다.\n",
    "\n",
    "\n",
    "확률적 경사 하강법의 또 다른 장점은 **온라인 학습**으로 사용할 수 있다는 것이다.\n",
    "온라인 학습에서 새로운 훈련 데이터가 도착하는 대로 훈련된다. 많은 양의 훈련 데이터가 있을 떄도 유용하다.\n",
    "온라인 학습을 사용해서 시스템은 변화에 즉시 적응한다. 저장 공간에 제약이 있다면 모델을 업데이트한 후 훈련 데이터를 버릴 수 있다.\n",
    "\n",
    "Note\n",
    "\n",
    "배치 경사 하강법과 확률적 경사 하강법 사이의 절출점이 미니 배치 학습이다.\n",
    "\n"
   ]
  },
  {
   "cell_type": "markdown",
   "source": [
    "확률적 경사 하강법으로 아달린 구현\n",
    "\n",
    "fit 메서드 안에서 각 훈련 샘플에 대해 가중치를 업데이트할 것이다. 추가로 partial_fit 메서드도 구현하겠다. 이 메서드는 가중치를 다시 초기화하지 않아\n",
    "온라인 학습에서 사용할 수 있다. 훈련 후에는 알고리즘이 수렴하는지 확인하려고 에포크마다 훈련 샘플의 평균 비용을 계산한다."
   ],
   "metadata": {
    "collapsed": false,
    "pycharm": {
     "name": "#%% md\n"
    }
   }
  },
  {
   "cell_type": "code",
   "execution_count": 29,
   "metadata": {},
   "outputs": [],
   "source": [
    "class AdalineSGD(object):\n",
    "\n",
    "    def __init__(self, eta=0.01, n_iter=10, shuffle=True, random_state=None):\n",
    "        self.eta = eta\n",
    "        self.n_iter = n_iter\n",
    "        self.w_initialized = False\n",
    "        self.shuffle = shuffle\n",
    "        self.random_state = random_state\n",
    "\n",
    "    def fit(self, X, y):\n",
    "        self._initialize_weights(X.shape[1])\n",
    "        self.cost_ = []\n",
    "\n",
    "        for i in range(self.n_iter):\n",
    "            if self.shuffle:\n",
    "                X, y = self._shuffle(X, y)\n",
    "            cost = []\n",
    "\n",
    "            for xi, target in zip(X, y):\n",
    "                cost.append(self._update_weights(xi, target))\n",
    "            avg_cost = sum(cost) / len(y)\n",
    "            self.cost_.append(avg_cost)\n",
    "        return self\n",
    "\n",
    "\n",
    "    def partial_fit(self, X, y):\n",
    "        \"\"\"가중치를 다시 초기화하지 않고 훈련 데이터를 학습한다.\"\"\"\n",
    "        if not self.w_initialized:\n",
    "            self._initialize_weights(X.shape[1])\n",
    "\n",
    "        if y.ravel().shape[0] > 1:\n",
    "            for xi, target in zip(X, y):\n",
    "                self._update_weights(xi, target)\n",
    "\n",
    "        else:\n",
    "            self._update_weights(X, y)\n",
    "\n",
    "        return self\n",
    "\n",
    "    def _shuffle(self, X, y):\n",
    "        r = self.rgen.permutation(len(y))\n",
    "        return X[r], y[r]\n",
    "\n",
    "    def _initialize_weights(self, m):\n",
    "        self.rgen = np.random.RandomState(self.random_state)\n",
    "        self.w_ = self.rgen.normal(loc=0.0, scale=0.01, size=1 + m)\n",
    "        self.w_initialized = True\n",
    "\n",
    "    def _update_weights(self, xi, target):\n",
    "\n",
    "        output = self.activation(self.net_input(xi))\n",
    "        error = (target - output)\n",
    "        self.w_[1:] += self.eta * xi.dot(error)\n",
    "        self.w_[0] += self.eta * error\n",
    "        cost = 0.5 * error**2\n",
    "        return cost\n",
    "\n",
    "    def net_input(self, X):\n",
    "        return np.dot(X, self.w_[1:]) + self.w_[0]\n",
    "\n",
    "    def activation(self, X):\n",
    "        return X\n",
    "\n",
    "    def predict(self, X):\n",
    "        return np.where(self.activation(self.net_input(X)) >= 0.0, 1, -1)"
   ]
  },
  {
   "cell_type": "markdown",
   "source": [
    "AdalineSGD 분류기에서 사용하는 _shuffle 메서드는 다음과 같이 작동한다. np.random 모듈의 permutation 함수로 0~100까지\n",
    "중복되지 않은 랜덤한 숫자 시퀀스를 생성한다. 이 숫자 시퀀스를 특성 행렬과 클래스 레이블 벡터를 섞는 인덱스로 사용한다."
   ],
   "metadata": {
    "collapsed": false,
    "pycharm": {
     "name": "#%% md\n"
    }
   }
  },
  {
   "cell_type": "code",
   "execution_count": 38,
   "outputs": [
    {
     "name": "stdout",
     "output_type": "stream",
     "text": [
      "-1    42209\n",
      " 1    42072\n",
      "dtype: int64\n"
     ]
    },
    {
     "data": {
      "text/plain": "<Figure size 432x288 with 1 Axes>",
      "image/png": "[encoded data removed]"
     },
     "metadata": {
      "needs_background": "light"
     },
     "output_type": "display_data"
    }
   ],
   "source": [
    "ada = AdalineSGD(n_iter=15, eta=0.01, random_state=1)\n",
    "ada.fit(x_std, y)\n",
    "\n",
    "plot_decision_regions(x_std, y, classifier=ada)\n",
    "plt.title(\"Adaline-Gradient Descent\")\n",
    "plt.xlabel(\"sepal lenth[stadardized]\")\n",
    "plt.ylabel(\"petal lenth[stadardized]\")\n",
    "plt.legend()\n",
    "plt.show()"
   ],
   "metadata": {
    "collapsed": false,
    "pycharm": {
     "name": "#%%\n"
    }
   }
  },
  {
   "cell_type": "code",
   "execution_count": 39,
   "outputs": [
    {
     "data": {
      "text/plain": "Text(0.5, 1.0, 'Adaline - Standardization')"
     },
     "execution_count": 39,
     "metadata": {},
     "output_type": "execute_result"
    },
    {
     "data": {
      "text/plain": "<Figure size 432x288 with 1 Axes>",
      "image/png": "[encoded data removed]"
     },
     "metadata": {
      "needs_background": "light"
     },
     "output_type": "display_data"
    }
   ],
   "source": [
    "plt.plot(range(1, len(ada.cost_) +1), ada.cost_, marker='o')\n",
    "plt.xlabel('Epochs')\n",
    "plt.ylabel('Sum-squared-error')\n",
    "plt.title('Adaline - Standardization')\n",
    "\n"
   ],
   "metadata": {
    "collapsed": false,
    "pycharm": {
     "name": "#%%\n"
    }
   }
  }
 ],
 "metadata": {
  "kernelspec": {
   "display_name": "Python 3",
   "language": "python",
   "name": "python3"
  },
  "language_info": {
   "codemirror_mode": {
    "name": "ipython",
    "version": 3
   },
   "file_extension": ".py",
   "mimetype": "text/x-python",
   "name": "python",
   "nbconvert_exporter": "python",
   "pygments_lexer": "ipython3",
   "version": "3.7.1"
  }
 },
 "nbformat": 4,
 "nbformat_minor": 1
}